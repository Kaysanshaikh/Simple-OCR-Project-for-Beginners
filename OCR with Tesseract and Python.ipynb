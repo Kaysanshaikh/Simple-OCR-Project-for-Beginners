{
 "cells": [
  {
   "cell_type": "code",
   "execution_count": 1,
   "metadata": {},
   "outputs": [],
   "source": [
    "import cv2\n",
    "import pytesseract"
   ]
  },
  {
   "cell_type": "code",
   "execution_count": 2,
   "metadata": {},
   "outputs": [],
   "source": [
    "#Tessaract-OCR Path\n",
    "pytesseract.pytesseract.tesseract_cmd = r'C:\\Program Files\\Tesseract-OCR\\tesseract.exe'"
   ]
  },
  {
   "cell_type": "code",
   "execution_count": 3,
   "metadata": {},
   "outputs": [],
   "source": [
    "img = cv2.imread(\"2.png\")"
   ]
  },
  {
   "cell_type": "code",
   "execution_count": 4,
   "metadata": {},
   "outputs": [
    {
     "name": "stdout",
     "output_type": "stream",
     "text": [
      "You were given\n",
      "THIS LIFE\n",
      "because you re\n",
      "strong enough\n",
      "to live tt.\n",
      "\n"
     ]
    }
   ],
   "source": [
    "# Simple image to string\n",
    "import os\n",
    "\n",
    "os.environ['TESSDATA_PREFIX'] = r'C:\\Program Files\\Tesseract-OCR\\tessdata'\n",
    "\n",
    "print(pytesseract.image_to_string(img))"
   ]
  },
  {
   "cell_type": "code",
   "execution_count": 5,
   "metadata": {},
   "outputs": [
    {
     "name": "stdout",
     "output_type": "stream",
     "text": [
      "Y 49 393 79 437 0\n",
      "o 82 392 112 423 0\n",
      "u 117 392 141 422 0\n",
      "w 169 392 209 422 0\n",
      "e 212 392 242 423 0\n",
      "r 246 393 258 422 0\n",
      "e 259 392 289 423 0\n",
      "g 317 382 348 423 0\n",
      "i 353 393 357 422 0\n",
      "v 361 392 388 422 0\n",
      "e 391 392 421 423 0\n",
      "n 426 393 451 423 0\n",
      "T 105 322 140 370 0\n",
      "H 145 322 183 370 0\n",
      "I 187 322 195 370 0\n",
      "S 197 321 234 371 0\n",
      "L 266 322 296 370 0\n",
      "I 300 322 308 370 0\n",
      "F 313 322 348 370 0\n",
      "E 352 322 387 370 0\n",
      "b 63 271 93 316 0\n",
      "e 97 271 127 302 0\n",
      "c 130 271 155 302 0\n",
      "a 159 271 189 302 0\n",
      "u 196 271 220 301 0\n",
      "s 225 271 244 301 0\n",
      "e 246 271 276 302 0\n",
      "y 302 266 326 301 0\n",
      "o 329 271 359 302 0\n",
      "u 364 271 451 317 0\n",
      "r 405 259 426 321 0\n",
      "e 425 259 452 321 0\n",
      "s 70 212 89 242 0\n",
      "t 91 213 123 257 0\n",
      "r 124 212 154 243 0\n",
      "o 159 213 184 243 0\n",
      "n 172 202 200 257 0\n",
      "g 188 202 219 243 0\n",
      "e 248 212 278 243 0\n",
      "n 282 213 307 243 0\n",
      "o 312 212 342 243 0\n",
      "u 347 212 371 242 0\n",
      "g 376 202 407 243 0\n",
      "h 412 213 435 257 0\n",
      "t 148 153 162 197 0\n",
      "o 166 152 196 183 0\n",
      "l 226 153 230 197 0\n",
      "i 235 153 239 182 0\n",
      "v 243 152 270 182 0\n",
      "e 274 152 304 183 0\n",
      "t 332 152 334 197 0\n",
      "t 332 153 355 197 0\n",
      ". 360 152 368 160 0\n",
      "\n"
     ]
    }
   ],
   "source": [
    "# Get bounding box estimates\n",
    "# A 141 200 207 276 0 =>1) Letter 2)x point 3)y point 4)width 5)height 6)conf\n",
    "print(pytesseract.image_to_boxes(img))"
   ]
  },
  {
   "cell_type": "code",
   "execution_count": 6,
   "metadata": {},
   "outputs": [
    {
     "name": "stdout",
     "output_type": "stream",
     "text": [
      "500 500 3\n"
     ]
    }
   ],
   "source": [
    "hImg, wImg, _ = img.shape\n",
    "print(hImg,wImg,_) # width ,height,  channel\n",
    "boxes = pytesseract.image_to_boxes(img)\n",
    "for b in boxes.splitlines():\n",
    "    b = b.split(' ')\n",
    "    x,y,w,h = int(b[1]),int(b[2]),int(b[3]),int(b[4])\n",
    "    cv2.rectangle(img,(x,hImg-y),(w,hImg-h),(0,0,255),3)\n",
    "    cv2.putText(img,b[0],(x,hImg-y+25),cv2.FONT_HERSHEY_COMPLEX,1,(50,50,255),2) #FONT_HERSHEY_COMPLEX => font size"
   ]
  },
  {
   "cell_type": "code",
   "execution_count": 7,
   "metadata": {},
   "outputs": [
    {
     "data": {
      "text/plain": [
       "-1"
      ]
     },
     "execution_count": 7,
     "metadata": {},
     "output_type": "execute_result"
    }
   ],
   "source": [
    "cv2.imshow('Images',img)\n",
    "cv2.waitKey(0)"
   ]
  }
 ],
 "metadata": {
  "kernelspec": {
   "display_name": "Python 3",
   "language": "python",
   "name": "python3"
  },
  "language_info": {
   "codemirror_mode": {
    "name": "ipython",
    "version": 3
   },
   "file_extension": ".py",
   "mimetype": "text/x-python",
   "name": "python",
   "nbconvert_exporter": "python",
   "pygments_lexer": "ipython3",
   "version": "3.11.3"
  }
 },
 "nbformat": 4,
 "nbformat_minor": 5
}
